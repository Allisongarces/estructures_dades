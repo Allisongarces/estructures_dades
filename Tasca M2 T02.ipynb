{
 "cells": [
  {
   "cell_type": "markdown",
   "id": "fc5c2956",
   "metadata": {},
   "source": [
    "# Tasca M2 T02\n",
    "## Allison Garces Castaño"
   ]
  },
  {
   "cell_type": "markdown",
   "id": "81ee8936",
   "metadata": {},
   "source": [
    "### Ejercicio 1\n",
    "El ejercicio consiste en crear un programa que te clasifique una variable numérica en función de la escala:\n",
    "Suspendido/Aprobado/Notable/Excelente.\n",
    "Recuerda que: \n",
    "Suspendido < 5\n",
    "Aprobado > 5 y < 7\n",
    "Notable > 7 y < 9\n",
    "Excelente > 9"
   ]
  },
  {
   "cell_type": "code",
   "execution_count": 11,
   "id": "abd788d0",
   "metadata": {},
   "outputs": [
    {
     "name": "stdout",
     "output_type": "stream",
     "text": [
      "Cual es su numero: 9\n",
      "Su nota es 9.0 Resultado: Aprobado\n"
     ]
    }
   ],
   "source": [
    "nota = float(input(\"Cual es su numero: \"))\n",
    "\n",
    "if nota < 5:\n",
    "    r = \"Suspendido\" \n",
    "\n",
    "elif nota >= 5 and nota <7:\n",
    "    r = \"Aprobado\" \n",
    "\n",
    "elif nota >= 7 and nota <9 :\n",
    "    r= \"Notable\"\n",
    "\n",
    "elif nota >= 9:\n",
    "    r = \"Aprobado\"\n",
    "    \n",
    "print(\"Su nota es {} Resultado: {}\".format(nota, r))"
   ]
  },
  {
   "cell_type": "markdown",
   "id": "e92fc390",
   "metadata": {},
   "source": [
    "### Ejercicio 2\n",
    "Crea un programa que te pregunte dos números. Debe mostrarte un mensaje diciendo si el primero es mayor, el segundo es mayor o son iguales"
   ]
  },
  {
   "cell_type": "code",
   "execution_count": 13,
   "id": "0f9d2236",
   "metadata": {},
   "outputs": [
    {
     "name": "stdout",
     "output_type": "stream",
     "text": [
      "Ingresando dos numeros\n",
      "Ingrese numero 1: 7\n",
      "Ingrese numero 2: 6\n",
      "El primer numero ingresado: 7 es mayor que el segundo numero ingresado: 6\n"
     ]
    }
   ],
   "source": [
    "print(\"Ingresando dos numeros\")\n",
    "\n",
    "numero1 = int(input(\"Ingrese numero 1: \"))\n",
    "numero2 = int(input(\"Ingrese numero 2: \"))\n",
    "\n",
    "if numero1 > numero2:\n",
    "    print(\"El primer numero ingresado: {} es mayor que el segundo numero ingresado: {}\".format(numero1,numero2))\n",
    "\n",
    "elif numero1 < numero2:\n",
    "    print(\"El segundo numero ingresado: {} es mayor que el primer numero ingresado: {}\".format(numero2,numero1))\n",
    "\n",
    "else:\n",
    "    print(\"Los numeros 1 y 2 son iguales :)\")"
   ]
  },
  {
   "cell_type": "markdown",
   "id": "8807dacb",
   "metadata": {},
   "source": [
    "### Ejercicio 3\n",
    "\n",
    "Crea un programa que te pregunte tu nombre y te pida un número. Si el número es 0, debería mostrar un mensaje de error. De lo contrario, debería mostrar el nombre repetido tantas veces como indique el número. Por ejemplo, \"Joan Joan Joan\"."
   ]
  },
  {
   "cell_type": "code",
   "execution_count": 17,
   "id": "fc05852e",
   "metadata": {},
   "outputs": [
    {
     "name": "stdout",
     "output_type": "stream",
     "text": [
      "Ingrese el nombre por favor: Alli\n",
      "Numero de veces que quiere repetir el nombre: 3\n",
      "Alli\n",
      "Alli\n",
      "Alli\n"
     ]
    }
   ],
   "source": [
    "nombre = input(\"Ingrese el nombre por favor: \")\n",
    "numero = int(input(\"Numero de veces que quiere repetir el nombre: \"))\n",
    "\n",
    "if numero > 0: \n",
    "    for i in range(numero):\n",
    "        print(nombre)\n",
    "\n",
    "if numero == 0:\n",
    "    print(\"¡¡¡ERROR!!! El numero no puede ser 0\")\n",
    "\n",
    "elif numero < 0:\n",
    "    print(\"¡¡¡ERROR!!! El numero no puede ser negativo\")"
   ]
  },
  {
   "cell_type": "markdown",
   "id": "0d4f315a",
   "metadata": {},
   "source": [
    "### Ejercicio 4\n",
    "\n",
    "Crea un programa que dada una lista cualquiera, te diga si es simétrica o no. Si lo es, que te diga cuántos elementos tiene."
   ]
  },
  {
   "cell_type": "code",
   "execution_count": 22,
   "id": "8527c738",
   "metadata": {},
   "outputs": [
    {
     "name": "stdout",
     "output_type": "stream",
     "text": [
      "Para una lista de 6 elementos, ingresada por usted. Probaremos si es SIMETRICA \n",
      "\n",
      "Ingrese un valor entero para crear su lista: 3\n",
      "Ingrese un valor entero para crear su lista: 4\n",
      "Ingrese un valor entero para crear su lista: 5\n",
      "Ingrese un valor entero para crear su lista: 5\n",
      "Ingrese un valor entero para crear su lista: 4\n",
      "Ingrese un valor entero para crear su lista: 3\n",
      "\n",
      "\n",
      "Su lista es: [3, 4, 5, 5, 4, 3]\n",
      "La lista es simetrica\n",
      "Numero de elementos de la lista:  6\n"
     ]
    }
   ],
   "source": [
    "print(\"Para una lista de 6 elementos, ingresada por usted. Probaremos si es SIMETRICA \\n\")\n",
    "\n",
    "lista = []\n",
    "for x in range(6):\n",
    "    valor=int(input(\"Ingrese un valor entero para crear su lista: \"))\n",
    "    lista.append(valor)\n",
    "\n",
    "#EJEMPLOS DE UNA LISTA SIMETRICA\n",
    "#lista = [1,2,3,3,2,1]\n",
    "#lista = [1,2,8,2,1]\n",
    "\n",
    "print(\"\\n\")\n",
    "print(\"Su lista es:\",lista)\n",
    "\n",
    "if lista == lista[::-1]:\n",
    "    print(\"La lista es simetrica\")\n",
    "    print(\"Numero de elementos de la lista: \",len(lista))\n",
    "\n",
    "else:\n",
    "    print(\"La lista no es simetrica\")"
   ]
  },
  {
   "cell_type": "markdown",
   "id": "723943c5",
   "metadata": {},
   "source": [
    "### Ejercicio 4\n",
    "\n",
    "Crea un programa que dada una lista, te diga cuántos números coinciden con su posición. Por ejemplo [3,4,2,0,2,3,6] el 2 y el 6 coinciden."
   ]
  },
  {
   "cell_type": "code",
   "execution_count": 24,
   "id": "7a715745",
   "metadata": {},
   "outputs": [
    {
     "name": "stdout",
     "output_type": "stream",
     "text": [
      "[3, 4, 2, 0, 2, 3, 6, 4, 3, 9, 0]\n",
      "El numero en posicion 2 coincide el numero 2\n",
      "El numero en posicion 6 coincide el numero 6\n",
      "El numero en posicion 9 coincide el numero 9\n"
     ]
    }
   ],
   "source": [
    "lista = [3,4,2,0,2,3,6,4,3,9,0]\n",
    "print(lista)\n",
    "\n",
    "for i in range(len(lista)):\n",
    "    list=lista[i]\n",
    "    \n",
    "    if i == list:\n",
    "        print(\"El numero en posicion {} coincide el numero {}\".format(i,list))"
   ]
  },
  {
   "cell_type": "code",
   "execution_count": null,
   "id": "468bb419",
   "metadata": {},
   "outputs": [],
   "source": []
  }
 ],
 "metadata": {
  "kernelspec": {
   "display_name": "Python 3 (ipykernel)",
   "language": "python",
   "name": "python3"
  },
  "language_info": {
   "codemirror_mode": {
    "name": "ipython",
    "version": 3
   },
   "file_extension": ".py",
   "mimetype": "text/x-python",
   "name": "python",
   "nbconvert_exporter": "python",
   "pygments_lexer": "ipython3",
   "version": "3.9.12"
  }
 },
 "nbformat": 4,
 "nbformat_minor": 5
}
